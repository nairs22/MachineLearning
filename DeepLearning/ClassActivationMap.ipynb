{
  "nbformat": 4,
  "nbformat_minor": 0,
  "metadata": {
    "colab": {
      "name": "ClassActivationMap.ipynb",
      "version": "0.3.2",
      "provenance": []
    },
    "kernelspec": {
      "name": "python3",
      "display_name": "Python 3"
    }
  },
  "cells": [
    {
      "cell_type": "code",
      "metadata": {
        "id": "QdtrptNw_d0G",
        "colab_type": "code",
        "outputId": "520ad92d-45b8-4055-df44-0fa673f7f0cd",
        "colab": {
          "base_uri": "https://localhost:8080/",
          "height": 34
        }
      },
      "source": [
        "from google.colab import drive\n",
        "\n",
        "drive.mount('/content/drive')"
      ],
      "execution_count": 0,
      "outputs": [
        {
          "output_type": "stream",
          "text": [
            "Drive already mounted at /content/drive; to attempt to forcibly remount, call drive.mount(\"/content/drive\", force_remount=True).\n"
          ],
          "name": "stdout"
        }
      ]
    },
    {
      "cell_type": "code",
      "metadata": {
        "id": "fsP7_4-2_iQa",
        "colab_type": "code",
        "colab": {}
      },
      "source": [
        "import torch\n",
        "import torch.nn as nn\n",
        "from torchvision import models, transforms\n",
        "from torch.autograd import Variable\n",
        "from torch.nn import functional as F\n",
        "from torch import topk\n",
        "\n",
        "from matplotlib.pyplot import imshow\n",
        "from PIL import Image\n",
        "import numpy as np\n",
        "from skimage import transform as sk\n",
        "from pathlib import Path\n",
        "import matplotlib.pyplot as plt\n",
        "import cv2\n",
        "import os\n",
        "#from utils import load_input_image,getCAM\n",
        "#import SaveFeatures as sf\n",
        "import warnings\n",
        "warnings.filterwarnings(\"ignore\")"
      ],
      "execution_count": 0,
      "outputs": []
    },
    {
      "cell_type": "code",
      "metadata": {
        "id": "7x7Hee53_kfq",
        "colab_type": "code",
        "colab": {}
      },
      "source": [
        "class SaveFeatures():\n",
        "    features=None\n",
        "    def __init__(self, m): self.hook = m.register_forward_hook(self.hook_fn)\n",
        "    def hook_fn(self, module, input, output): self.features = ((output.cpu()).data).numpy()\n",
        "    def remove(self): self.hook.remove()"
      ],
      "execution_count": 0,
      "outputs": []
    },
    {
      "cell_type": "code",
      "metadata": {
        "id": "r2E1w0u7_tgS",
        "colab_type": "code",
        "colab": {}
      },
      "source": [
        "def is_grayscale(image):\n",
        "\n",
        "    trans = transforms.ToTensor()\n",
        "    if trans(image).shape[0] == 1:\n",
        "        return True\n",
        "    else:\n",
        "        return False\n",
        "\n",
        "def load_input_image(img_path):\n",
        "    image = Image.open(Path(img_path))\n",
        "    image_transform= transforms.Compose([\n",
        "            transforms.Resize(256),\n",
        "            transforms.CenterCrop(224),\n",
        "            transforms.ToTensor(),\n",
        "        ])\n",
        "    if is_grayscale(image) == True:\n",
        "      print(\" is a GreyScale Image\")\n",
        "      image = image.convert('RGB')\n",
        "\n",
        "    image = image_transform(image)\n",
        "    return image\n"
      ],
      "execution_count": 0,
      "outputs": []
    },
    {
      "cell_type": "code",
      "metadata": {
        "id": "3DfuSr3C_1kW",
        "colab_type": "code",
        "colab": {}
      },
      "source": [
        "display_transform = transforms.Compose([\n",
        "   transforms.Resize((512,379))])"
      ],
      "execution_count": 0,
      "outputs": []
    },
    {
      "cell_type": "code",
      "metadata": {
        "id": "8oMnigUX_7zx",
        "colab_type": "code",
        "colab": {}
      },
      "source": [
        "vgg = models.vgg16(pretrained=True)\n",
        "checkpoint_vgg=torch.load('/content/drive/My Drive/Thesis/Finger/vgg_Finger_905.pth',map_location='cpu')"
      ],
      "execution_count": 0,
      "outputs": []
    },
    {
      "cell_type": "code",
      "metadata": {
        "id": "y8TWmJ8aYwIS",
        "colab_type": "code",
        "outputId": "fb21c33f-0f0f-4332-db63-8aaeeb4ad309",
        "colab": {
          "base_uri": "https://localhost:8080/",
          "height": 34
        }
      },
      "source": [
        "list(vgg.features[-3].parameters())[1].shape"
      ],
      "execution_count": 0,
      "outputs": [
        {
          "output_type": "execute_result",
          "data": {
            "text/plain": [
              "torch.Size([512])"
            ]
          },
          "metadata": {
            "tags": []
          },
          "execution_count": 86
        }
      ]
    },
    {
      "cell_type": "code",
      "metadata": {
        "id": "bAPujBhX_9Yp",
        "colab_type": "code",
        "colab": {}
      },
      "source": [
        "vgg.classifier[-1] = nn.Linear(in_features=4096, out_features=2)"
      ],
      "execution_count": 0,
      "outputs": []
    },
    {
      "cell_type": "code",
      "metadata": {
        "id": "CP_A57n8AAMB",
        "colab_type": "code",
        "outputId": "4ab5facf-cae1-4f3b-9ea3-7f65e1d5bcec",
        "colab": {
          "base_uri": "https://localhost:8080/",
          "height": 34
        }
      },
      "source": [
        "vgg.load_state_dict(checkpoint_vgg,strict=False)"
      ],
      "execution_count": 0,
      "outputs": [
        {
          "output_type": "execute_result",
          "data": {
            "text/plain": [
              "IncompatibleKeys(missing_keys=['classifier.6.weight', 'classifier.6.bias'], unexpected_keys=['classifier.6.1.weight', 'classifier.6.1.bias'])"
            ]
          },
          "metadata": {
            "tags": []
          },
          "execution_count": 47
        }
      ]
    },
    {
      "cell_type": "code",
      "metadata": {
        "id": "SJAaQltuABwP",
        "colab_type": "code",
        "colab": {}
      },
      "source": [
        "sf = SaveFeatures(vgg.features[-3])"
      ],
      "execution_count": 0,
      "outputs": []
    },
    {
      "cell_type": "code",
      "metadata": {
        "id": "ZIMt7ZbEADmL",
        "colab_type": "code",
        "outputId": "f8a8baa3-7f0d-4fc3-a88b-1c2a6892557c",
        "colab": {
          "base_uri": "https://localhost:8080/",
          "height": 52
        }
      },
      "source": [
        "image= load_input_image(\"/content/drive/My Drive/image/test.png\")\n",
        "print(image.shape)\n",
        "predict_val = Variable((image.unsqueeze(0)), requires_grad=True)\n",
        "outputs = vgg(predict_val)\n",
        "\n",
        "#classes [ant, bee]\n",
        "res = torch.argmax(outputs.data).cpu().detach().numpy()\n",
        "if res==1:\n",
        "    print('result: abnormal',res)\n",
        "else:\n",
        "    print('result: normal',res)"
      ],
      "execution_count": 0,
      "outputs": [
        {
          "output_type": "stream",
          "text": [
            "torch.Size([3, 224, 224])\n",
            "result: abnormal 1\n"
          ],
          "name": "stdout"
        }
      ]
    },
    {
      "cell_type": "code",
      "metadata": {
        "id": "1eCS-bNXAHHz",
        "colab_type": "code",
        "colab": {}
      },
      "source": [
        "pred_prob = F.softmax(outputs).data.squeeze()\n",
        "sf.remove()\n",
        "top=topk(pred_prob,1)"
      ],
      "execution_count": 0,
      "outputs": []
    },
    {
      "cell_type": "code",
      "metadata": {
        "id": "hgmsbXWWAJsy",
        "colab_type": "code",
        "outputId": "a944330e-72dd-45ad-b726-eea391879aa4",
        "colab": {
          "base_uri": "https://localhost:8080/",
          "height": 34
        }
      },
      "source": [
        "top=topk(pred_prob,1)\n",
        "print(\"Probability predicted\")\n",
        "weight_softmax_params = list(vgg.features[-3].parameters())\n",
        "weight_softmax = np.squeeze(weight_softmax_params[1].data.numpy())\n",
        "class_idx = topk(pred_prob,1)[1].int()"
      ],
      "execution_count": 0,
      "outputs": [
        {
          "output_type": "stream",
          "text": [
            "Probability predicted\n"
          ],
          "name": "stdout"
        }
      ]
    },
    {
      "cell_type": "code",
      "metadata": {
        "id": "N-CW-iyIYkCT",
        "colab_type": "code",
        "outputId": "00e2ac6a-790d-460a-fe12-2dc5222d6876",
        "colab": {
          "base_uri": "https://localhost:8080/",
          "height": 34
        }
      },
      "source": [
        "sf.features.shape"
      ],
      "execution_count": 0,
      "outputs": [
        {
          "output_type": "execute_result",
          "data": {
            "text/plain": [
              "(1, 512, 14, 14)"
            ]
          },
          "metadata": {
            "tags": []
          },
          "execution_count": 79
        }
      ]
    },
    {
      "cell_type": "code",
      "metadata": {
        "id": "vDsTprBHPh5b",
        "colab_type": "code",
        "outputId": "1929c396-1ab1-4385-d033-7dceedd54a9e",
        "colab": {
          "base_uri": "https://localhost:8080/",
          "height": 34
        }
      },
      "source": [
        "weight_softmax_params[0].shape"
      ],
      "execution_count": 0,
      "outputs": [
        {
          "output_type": "execute_result",
          "data": {
            "text/plain": [
              "torch.Size([512, 512, 3, 3])"
            ]
          },
          "metadata": {
            "tags": []
          },
          "execution_count": 77
        }
      ]
    },
    {
      "cell_type": "code",
      "metadata": {
        "id": "BLbcV6D1WU1b",
        "colab_type": "code",
        "outputId": "1135a226-71cb-44e6-ae8c-beeb808e4f25",
        "colab": {
          "base_uri": "https://localhost:8080/",
          "height": 167
        }
      },
      "source": [
        "f2=np.dot(np.rollaxis(fts_np,0,3), weight_softmax[class_idx])"
      ],
      "execution_count": 0,
      "outputs": [
        {
          "output_type": "error",
          "ename": "ValueError",
          "evalue": "ignored",
          "traceback": [
            "\u001b[0;31m---------------------------------------------------------------------------\u001b[0m",
            "\u001b[0;31mValueError\u001b[0m                                Traceback (most recent call last)",
            "\u001b[0;32m<ipython-input-75-09c45112fa46>\u001b[0m in \u001b[0;36m<module>\u001b[0;34m()\u001b[0m\n\u001b[0;32m----> 1\u001b[0;31m \u001b[0mf2\u001b[0m\u001b[0;34m=\u001b[0m\u001b[0mnp\u001b[0m\u001b[0;34m.\u001b[0m\u001b[0mdot\u001b[0m\u001b[0;34m(\u001b[0m\u001b[0mnp\u001b[0m\u001b[0;34m.\u001b[0m\u001b[0mrollaxis\u001b[0m\u001b[0;34m(\u001b[0m\u001b[0mfts_np\u001b[0m\u001b[0;34m,\u001b[0m\u001b[0;36m0\u001b[0m\u001b[0;34m,\u001b[0m\u001b[0;36m3\u001b[0m\u001b[0;34m)\u001b[0m\u001b[0;34m,\u001b[0m \u001b[0mweight_softmax\u001b[0m\u001b[0;34m[\u001b[0m\u001b[0mclass_idx\u001b[0m\u001b[0;34m]\u001b[0m\u001b[0;34m)\u001b[0m\u001b[0;34m\u001b[0m\u001b[0;34m\u001b[0m\u001b[0m\n\u001b[0m",
            "\u001b[0;31mValueError\u001b[0m: shapes (512,14,1,14) and (512,3,3) not aligned: 14 (dim 3) != 3 (dim 1)"
          ]
        }
      ]
    },
    {
      "cell_type": "code",
      "metadata": {
        "id": "PxFGLIbrPVs3",
        "colab_type": "code",
        "colab": {}
      },
      "source": [
        "def getCAM(feature_conv, weight_fc, class_idx):\n",
        "    print(feature_conv.shape)\n",
        "   # print(weight_fc[class_idx])\n",
        "    _, nc, h, w = feature_conv.shape\n",
        "    print(\"here\")\n",
        "    #cam = (weight_fc[class_idx]).dot(feature_conv.reshape((nc, h*w)))\n",
        "    cam=np.dot(weight_fc[class_idx],feature_conv.reshape((nc, h*w)))\n",
        "    print(\"here2\")\n",
        "    print(\"h:\",h,\"w:\",w)\n",
        "    print(cam.shape)\n",
        "    cam /= np.max(cam)\n",
        "    cam = cv2.resize(cam, (h, w))\n",
        "    heatmap = cv2.applyColorMap(np.uint8(255*cam), cv2.COLORMAP_JET)\n",
        "    heatmap[np.where(cam < 0.2)] = 0\n",
        "    original_img = Image.open(\"/content/drive/My Drive/image/test.png\")\n",
        "    output_path=\"/content/drive/My Drive/image/\"\n",
        "   # print(original_img.shape)\n",
        "    im_pil = Image.fromarray(heatmap)\n",
        "    heatmap= display_transform(im_pil)\n",
        "    heatmap = np. array(heatmap)\n",
        "    img = heatmap*0.5 + original_img\n",
        "    #img.save(\"/content/drive/My Drive/image/test_res.png\")\n",
        "   # cv2.imwrite(output_path, img)\n",
        "    print(img.shape)\n",
        "    image = Image.fromarray(img, 'RGB')\n",
        "    image.save('/content/drive/My Drive/image/my.png')\n",
        "    image.show()"
      ],
      "execution_count": 0,
      "outputs": []
    },
    {
      "cell_type": "code",
      "metadata": {
        "id": "MhcZa0E2Gijg",
        "colab_type": "code",
        "outputId": "5a4edcce-51a7-424e-e6bd-f0443bd44234",
        "colab": {
          "base_uri": "https://localhost:8080/",
          "height": 122
        }
      },
      "source": [
        "overlay = getCAM(sf.features, weight_softmax, class_idx )"
      ],
      "execution_count": 0,
      "outputs": [
        {
          "output_type": "stream",
          "text": [
            "(1, 512, 14, 14)\n",
            "here\n",
            "here2\n",
            "h: 14 w: 14\n",
            "(512, 196)\n",
            "(512, 379, 3)\n"
          ],
          "name": "stdout"
        }
      ]
    },
    {
      "cell_type": "code",
      "metadata": {
        "id": "roTfYI7NZ0cV",
        "colab_type": "code",
        "outputId": "4598c0d4-1ae6-4e1b-85cb-f191a976f1e4",
        "colab": {
          "base_uri": "https://localhost:8080/",
          "height": 52
        }
      },
      "source": [
        "dir_image_path=\"/content/drive/My Drive/\"\n",
        "image_name=\"test\"\n",
        "filename=\"test\"\n",
        "img=Image.open(\"/content/drive/My Drive/image/test.png\")\n",
        "xray_path = os.path.join(dir_image_path,'xray.png')\n",
        "heatmap_path = os.path.join(dir_image_path,'heatmap.png')\n",
        "plt.imsave(xray_path,display_transform(img))\n",
        "plt.imsave(heatmap_path,sk.resize(overlay[0], image.shape[1:3]), cmap='jet')\n",
        "print(\"CAM generated and saved\")\n",
        "xray_image = Image.open(xray_path)\n",
        "heatmap_image = Image.open(heatmap_path)\n",
        "result_img = Image.blend(heatmap_image, xray_image, 0.7)\n",
        "\n",
        "# saves image in the project folder\n",
        "result_filename=image_name+'_result.png'\n",
        "result_img.save(os.path.join(dir_image_path,result_filename),\"PNG\")\n",
        "result_path=os.path.join(dir_image_path,result_filename)\n",
        "\n",
        "ori_image = Image.open(os.path.join(dir_image_path,filename))\n",
        "ori_image= display_transform(ori_image)\n",
        "ori_image.save(os.path.join(dir_image_path,filename))\n",
        "print(result_img.size)"
      ],
      "execution_count": 0,
      "outputs": [
        {
          "output_type": "stream",
          "text": [
            "CAM generated and saved\n",
            "(224, 224)\n"
          ],
          "name": "stdout"
        }
      ]
    },
    {
      "cell_type": "code",
      "metadata": {
        "id": "xp7gFnLXGlTI",
        "colab_type": "code",
        "colab": {}
      },
      "source": [
        "output = model.output[:, argmax]"
      ],
      "execution_count": 0,
      "outputs": []
    },
    {
      "cell_type": "code",
      "metadata": {
        "id": "A2oyA0yMGmvj",
        "colab_type": "code",
        "colab": {}
      },
      "source": [
        "last_conv_layer = model.get_layer('block5_conv3')"
      ],
      "execution_count": 0,
      "outputs": []
    },
    {
      "cell_type": "code",
      "metadata": {
        "id": "2urrD-j-GpcQ",
        "colab_type": "code",
        "colab": {}
      },
      "source": [
        "\n",
        "grads = K.gradients(output, last_conv_layer.output)[0]"
      ],
      "execution_count": 0,
      "outputs": []
    },
    {
      "cell_type": "code",
      "metadata": {
        "id": "maaWQXGjGqjy",
        "colab_type": "code",
        "colab": {}
      },
      "source": [
        "\n",
        "pooled_grads = K.mean(grads, axis=(0, 1, 2))"
      ],
      "execution_count": 0,
      "outputs": []
    },
    {
      "cell_type": "code",
      "metadata": {
        "id": "sVwFl0A1Gr78",
        "colab_type": "code",
        "colab": {}
      },
      "source": [
        "iterate = K.function([model.input], [pooled_grads, last_conv_layer.output[0]])"
      ],
      "execution_count": 0,
      "outputs": []
    },
    {
      "cell_type": "code",
      "metadata": {
        "id": "v5AY6pLVGtcr",
        "colab_type": "code",
        "colab": {}
      },
      "source": [
        "pooled_grads_value, conv_layer_output_value = iterate([x])"
      ],
      "execution_count": 0,
      "outputs": []
    },
    {
      "cell_type": "code",
      "metadata": {
        "id": "qkTU7fJAGuzG",
        "colab_type": "code",
        "colab": {}
      },
      "source": [
        "for i in range(512):\n",
        "    conv_layer_output_value[:, :, i] *= pooled_grads_value[i]"
      ],
      "execution_count": 0,
      "outputs": []
    },
    {
      "cell_type": "code",
      "metadata": {
        "id": "F6urabm_GwSR",
        "colab_type": "code",
        "outputId": "76bfe19e-d7f9-4a59-d96a-a720ccbe8866",
        "colab": {
          "base_uri": "https://localhost:8080/",
          "height": 275
        }
      },
      "source": [
        "heatmap = np.mean(conv_layer_output_value, axis=-1)\n",
        "heatmap = np.maximum(heatmap, 0)\n",
        "heatmap /= np.max(heatmap)\n",
        "plt.matshow(heatmap)\n",
        "plt.show()"
      ],
      "execution_count": 0,
      "outputs": [
        {
          "output_type": "display_data",
          "data": {
            "image/png": "[encoded data removed]",
            "text/plain": [
              "<Figure size 288x288 with 1 Axes>"
            ]
          },
          "metadata": {
            "tags": []
          }
        }
      ]
    },
    {
      "cell_type": "code",
      "metadata": {
        "id": "3apEaHbDGyFn",
        "colab_type": "code",
        "colab": {}
      },
      "source": [
        "\n",
        "import cv2\n",
        "img = cv2.imread(img_path)"
      ],
      "execution_count": 0,
      "outputs": []
    },
    {
      "cell_type": "code",
      "metadata": {
        "id": "RittwJ8DG05k",
        "colab_type": "code",
        "colab": {}
      },
      "source": [
        "\n",
        "heatmap = cv2.resize(heatmap, (img.shape[1], img.shape[0]))"
      ],
      "execution_count": 0,
      "outputs": []
    },
    {
      "cell_type": "code",
      "metadata": {
        "id": "wgvypplgG2VS",
        "colab_type": "code",
        "colab": {}
      },
      "source": [
        "heatmap = np.uint8(255 * heatmap)"
      ],
      "execution_count": 0,
      "outputs": []
    },
    {
      "cell_type": "code",
      "metadata": {
        "id": "_bB1wO-HG4FH",
        "colab_type": "code",
        "colab": {}
      },
      "source": [
        "heatmap = cv2.applyColorMap(heatmap, cv2.COLORMAP_JET)"
      ],
      "execution_count": 0,
      "outputs": []
    },
    {
      "cell_type": "code",
      "metadata": {
        "id": "WnSeasQtG6Oc",
        "colab_type": "code",
        "colab": {}
      },
      "source": [
        "hif = .8\n",
        "\n",
        "superimposed_img = heatmap * hif + img"
      ],
      "execution_count": 0,
      "outputs": []
    },
    {
      "cell_type": "code",
      "metadata": {
        "id": "OpJA7-LsG9JK",
        "colab_type": "code",
        "outputId": "a09263c6-1228-4467-f927-c3cf5b4cd748",
        "colab": {
          "base_uri": "https://localhost:8080/",
          "height": 298
        }
      },
      "source": [
        "plt.imshow(img)\n",
        "plt.axis('off')\n",
        "plt.title(predictions.loc[0,'category'])"
      ],
      "execution_count": 0,
      "outputs": [
        {
          "output_type": "execute_result",
          "data": {
            "text/plain": [
              "Text(0.5, 1.0, 'iPod')"
            ]
          },
          "metadata": {
            "tags": []
          },
          "execution_count": 28
        },
        {
          "output_type": "display_data",
          "data": {
            "image/png": "[encoded data removed]",
            "text/plain": [
              "<Figure size 432x288 with 1 Axes>"
            ]
          },
          "metadata": {
            "tags": []
          }
        }
      ]
    },
    {
      "cell_type": "code",
      "metadata": {
        "id": "a9LoPry2G-7I",
        "colab_type": "code",
        "colab": {}
      },
      "source": [
        "def cam(img_path):\n",
        "    from keras.applications.vgg16 import VGG16\n",
        "    import matplotlib.image as mpimg\n",
        "    from keras import backend as K\n",
        "    import matplotlib.pyplot as plt\n",
        "    %matplotlib inline\n",
        "    K.clear_session()\n",
        "    \n",
        "    model = VGG16(weights='imagenet')\n",
        "    img=mpimg.imread(img_path)\n",
        "    plt.imshow(img)\n",
        "    from keras.preprocessing import image\n",
        "    img = image.load_img(img_path, target_size=(224, 224))\n",
        "    x = image.img_to_array(img)\n",
        "    x = np.expand_dims(x, axis=0)\n",
        "    from keras.applications.vgg16 import preprocess_input\n",
        "    x = preprocess_input(x)\n",
        "    preds = model.predict(x)\n",
        "    predictions = pd.DataFrame(decode_predictions(preds, top=3)[0],columns=['col1','category','probability']).iloc[:,1:]\n",
        "    argmax = np.argmax(preds[0])\n",
        "    output = model.output[:, argmax]\n",
        "    last_conv_layer = model.get_layer('block5_conv3')\n",
        "    grads = K.gradients(output, last_conv_layer.output)[0]\n",
        "    pooled_grads = K.mean(grads, axis=(0, 1, 2))\n",
        "    iterate = K.function([model.input], [pooled_grads, last_conv_layer.output[0]])\n",
        "    pooled_grads_value, conv_layer_output_value = iterate([x])\n",
        "    for i in range(512):\n",
        "        conv_layer_output_value[:, :, i] *= pooled_grads_value[i]\n",
        "    heatmap = np.mean(conv_layer_output_value, axis=-1)\n",
        "    heatmap = np.maximum(heatmap, 0)\n",
        "    heatmap /= np.max(heatmap)\n",
        "    import cv2\n",
        "    img = cv2.imread(img_path)\n",
        "    heatmap = cv2.resize(heatmap, (img.shape[1], img.shape[0]))\n",
        "    heatmap = np.uint8(255 * heatmap)\n",
        "    heatmap = cv2.applyColorMap(heatmap, cv2.COLORMAP_JET)\n",
        "    hif = .8\n",
        "    superimposed_img = heatmap * hif + img\n",
        "    output = '/content/drive/My Drive/image/1/elbow.png'\n",
        "    cv2.imwrite(output, superimposed_img)\n",
        "    img=mpimg.imread(output)\n",
        "    plt.imshow(img)\n",
        "    plt.axis('off')\n",
        "    plt.title(predictions.loc[0,'category'].upper())\n",
        "    return None"
      ],
      "execution_count": 0,
      "outputs": []
    },
    {
      "cell_type": "code",
      "metadata": {
        "id": "mSdE9O3_HE7A",
        "colab_type": "code",
        "outputId": "61c153a6-0466-4bad-d475-d2e1e89597ef",
        "colab": {
          "base_uri": "https://localhost:8080/",
          "height": 281
        }
      },
      "source": [
        "cam('/content/drive/My Drive/Thesis/Finger/test/0/23.png')"
      ],
      "execution_count": 0,
      "outputs": [
        {
          "output_type": "display_data",
          "data": {
            "image/png": "[encoded data removed]",
            "text/plain": [
              "<Figure size 432x288 with 1 Axes>"
            ]
          },
          "metadata": {
            "tags": []
          }
        }
      ]
    },
    {
      "cell_type": "code",
      "metadata": {
        "id": "0oGwdApoJJZo",
        "colab_type": "code",
        "colab": {}
      },
      "source": [
        ""
      ],
      "execution_count": 0,
      "outputs": []
    }
  ]
}