{
 "cells": [
  {
   "cell_type": "markdown",
   "metadata": {},
   "source": [
    "# PYTHON OOPS "
   ]
  },
  {
   "cell_type": "markdown",
   "metadata": {},
   "source": [
    "## Define Class"
   ]
  },
  {
   "cell_type": "code",
   "execution_count": 116,
   "metadata": {},
   "outputs": [],
   "source": [
    "class Vehicle:\n",
    "    maxPrice=1000\n",
    "\n",
    "    def __init__(self,name,wheels):\n",
    "        self.name=name\n",
    "        self.wheels=wheels\n",
    "        \n",
    "    def honk(self):\n",
    "        return print(\"Honk!\")\n",
    "    \n",
    "    def setMaxPrice(self,price):\n",
    "        Vehicle.maxPrice=price\n",
    "    \n",
    "    def getMaxPrice(self):\n",
    "        return Vehicle.maxPrice"
   ]
  },
  {
   "cell_type": "markdown",
   "metadata": {},
   "source": [
    "## Define Object"
   ]
  },
  {
   "cell_type": "code",
   "execution_count": 117,
   "metadata": {},
   "outputs": [],
   "source": [
    "car=Vehicle(\"Car\",4)\n",
    "bike=Vehicle(\"Bike\",2)"
   ]
  },
  {
   "cell_type": "markdown",
   "metadata": {},
   "source": [
    "## Access Attributes"
   ]
  },
  {
   "cell_type": "code",
   "execution_count": 118,
   "metadata": {},
   "outputs": [
    {
     "name": "stdout",
     "output_type": "stream",
     "text": [
      "NAME: Car | WHEELS: 4 | MAXPRICE: 1000\n",
      "NAME: Bike | WHEELS: 2 | MAXPRICE: 1000\n"
     ]
    }
   ],
   "source": [
    "print (\"NAME: %s | WHEELS: %d | MAXPRICE: %d\" % (car.name, car.wheels,car.__class__.maxPrice))\n",
    "print (\"NAME: %s | WHEELS: %d | MAXPRICE: %d\" % (bike.name, bike.wheels,bike.__class__.maxPrice))"
   ]
  },
  {
   "cell_type": "code",
   "execution_count": 119,
   "metadata": {},
   "outputs": [
    {
     "name": "stdout",
     "output_type": "stream",
     "text": [
      "Honk!\n",
      "None\n"
     ]
    }
   ],
   "source": [
    "print(car.honk())"
   ]
  },
  {
   "cell_type": "code",
   "execution_count": 120,
   "metadata": {},
   "outputs": [
    {
     "data": {
      "text/plain": [
       "90"
      ]
     },
     "execution_count": 120,
     "metadata": {},
     "output_type": "execute_result"
    }
   ],
   "source": [
    "car.getMaxPrice()\n",
    "car.setMaxPrice(90)\n",
    "car.getMaxPrice()"
   ]
  },
  {
   "cell_type": "markdown",
   "metadata": {},
   "source": [
    "## Inheritance\n",
    "Classes can inherit functionality of other classes. If an object is created using a class that inherits from a superclass, the object will contain the methods of both the class and the superclass. "
   ]
  },
  {
   "cell_type": "code",
   "execution_count": 136,
   "metadata": {},
   "outputs": [
    {
     "name": "stdout",
     "output_type": "stream",
     "text": [
      "This is Parent Class\n",
      "The Vehicle brand is Volvo\n",
      "This is car class\n",
      "The brand is Ford\n",
      "Honk!\n",
      "Price set\n"
     ]
    },
    {
     "data": {
      "text/plain": [
       "900"
      ]
     },
     "execution_count": 136,
     "metadata": {},
     "output_type": "execute_result"
    }
   ],
   "source": [
    "class Vehicle:  #parent Class\n",
    "    maxPrice=1000\n",
    "    name=\"\"\n",
    "    def __init__(self,name):\n",
    "        self.name=name\n",
    "        print(\"This is Parent Class\")\n",
    "    \n",
    "    def vehicleBrand(self):\n",
    "        return print(\"The Vehicle brand is \"+self.name)    \n",
    "    \n",
    "    def honk(self):\n",
    "        return print(\"Honk!\")\n",
    "    \n",
    "    def setMaxPrice(self,price):\n",
    "        Vehicle.maxPrice=price\n",
    "        return print(\"Price set\")\n",
    "    \n",
    "    def getMaxPrice(self):\n",
    "        return Vehicle.maxPrice\n",
    "\n",
    "class Car(Vehicle): #child Class\n",
    "    numberOfWheels=4\n",
    "    \n",
    "    def __init__(self,name):\n",
    "        print(\"This is car class\")\n",
    "        self.name=name\n",
    "    \n",
    "    def carBrand(self):\n",
    "        return print(\"The brand is \"+self.name)\n",
    "    \n",
    "v=Vehicle(\"Volvo\")   #parent object\n",
    "v.vehicleBrand()\n",
    "c=Car(\"Ford\") #Child Object\n",
    "c.carBrand() \n",
    "c.honk()\n",
    "c.setMaxPrice(900) #Child object calling parent method\n",
    "c.getMaxPrice()"
   ]
  },
  {
   "cell_type": "markdown",
   "metadata": {},
   "source": [
    "## Encapsulation\n",
    "Encapsulation restricts access to methods and variables. Encapsulation prevents from accessing accidentally, but not intentionally. The private attributes and methods are not really hidden, they’re renamed adding “_Car” in the beginning of their name."
   ]
  },
  {
   "cell_type": "markdown",
   "metadata": {},
   "source": [
    "### Private Methods"
   ]
  },
  {
   "cell_type": "code",
   "execution_count": 151,
   "metadata": {},
   "outputs": [
    {
     "name": "stdout",
     "output_type": "stream",
     "text": [
      "Brand is Ford\n",
      "MaxSpeed is 1000\n"
     ]
    }
   ],
   "source": [
    "class Car:\n",
    " \n",
    "    def __init__(self):\n",
    "        self.__carBrand()\n",
    " \n",
    "    def maxSpeed(self):\n",
    "        print ('MaxSpeed is 1000')\n",
    " \n",
    "    def __carBrand(self):   \n",
    "        print ('Brand is Ford')\n",
    " \n",
    "car = Car()\n",
    "car.maxSpeed()\n",
    "#car.__carBrand()  not accesible from object."
   ]
  },
  {
   "cell_type": "markdown",
   "metadata": {},
   "source": [
    "### Private Variables"
   ]
  },
  {
   "cell_type": "code",
   "execution_count": 149,
   "metadata": {},
   "outputs": [
    {
     "name": "stdout",
     "output_type": "stream",
     "text": [
      "This is car class\n",
      "The brand is Mercedes\n",
      "The brand is Mercedes\n"
     ]
    }
   ],
   "source": [
    "class Car: \n",
    "    __name=\" \"\n",
    "    __maxSpeed=0\n",
    "    \n",
    "    def __init__(self):\n",
    "        print(\"This is car class\")\n",
    "        self.__name=\"Mercedes\"\n",
    "        self.__maxSpeed=1000\n",
    "    \n",
    "    def carBrand(self):\n",
    "        return print(\"The brand is \"+self.__name)\n",
    " \n",
    "car = Car()\n",
    "car.carBrand()\n",
    "car.__name = \"Ferrari\"  # will not change variable because its private\n",
    "car.carBrand()"
   ]
  },
  {
   "cell_type": "markdown",
   "metadata": {},
   "source": [
    "## Polymorphism\n",
    "Polymorphism allows functions to use objects of any of the polymorphic classes without needing to be aware of distinctions across the classes."
   ]
  },
  {
   "cell_type": "markdown",
   "metadata": {},
   "source": [
    "### Polymorphism with a function\n",
    "We cab call the brand method of class car and truck using a common method"
   ]
  },
  {
   "cell_type": "code",
   "execution_count": 128,
   "metadata": {
    "collapsed": true
   },
   "outputs": [],
   "source": [
    "class Car():\n",
    "  \n",
    "    def __init__(self):\n",
    "        print(\"This is car class\")\n",
    "    \n",
    "    def brand(self):\n",
    "        return print(\"The brand is Ford\")\n",
    "\n",
    "class Truck():\n",
    "   \n",
    "    def __init__(self):\n",
    "        print(\"This is truck class\")\n",
    "    \n",
    "    def brand(self):\n",
    "        return print(\"The brand is Volvo\")\n",
    "\n",
    "def getBrand(vehicle):\n",
    "    vehicle.brand()"
   ]
  },
  {
   "cell_type": "code",
   "execution_count": 129,
   "metadata": {},
   "outputs": [
    {
     "name": "stdout",
     "output_type": "stream",
     "text": [
      "This is car class\n",
      "This is truck class\n",
      "The brand is Ford\n",
      "The brand is Volvo\n"
     ]
    }
   ],
   "source": [
    "car=Car()\n",
    "truck=Truck()\n",
    "for vehicle in (car,truck):\n",
    "    getBrand(vehicle)"
   ]
  },
  {
   "cell_type": "markdown",
   "metadata": {},
   "source": [
    "### Polymorphism with abstract class \n",
    "We can use this type of polymorphism if we do not know the type pf object."
   ]
  },
  {
   "cell_type": "code",
   "execution_count": 130,
   "metadata": {},
   "outputs": [
    {
     "name": "stdout",
     "output_type": "stream",
     "text": [
      "This is car class\n",
      "This is truck class\n",
      "The brand is Ford\n",
      "The brand is Volvo\n"
     ]
    }
   ],
   "source": [
    "car=Car()\n",
    "truck=Truck()\n",
    "for vehicle in (car,truck):\n",
    "    vehicle.brand()"
   ]
  },
  {
   "cell_type": "markdown",
   "metadata": {},
   "source": [
    "# Method Overloading\n",
    "In Python you can define a method in such a way that there are multiple ways to call it."
   ]
  },
  {
   "cell_type": "code",
   "execution_count": 156,
   "metadata": {},
   "outputs": [
    {
     "name": "stdout",
     "output_type": "stream",
     "text": [
      "None\n",
      "Initialised car\n"
     ]
    }
   ],
   "source": [
    "class Vehicle:\n",
    " \n",
    "    def __init__(self, name=None):\n",
    " \n",
    "        if name is not None:\n",
    "            print ('Initialised ' + name)\n",
    "        else:\n",
    "            print ('None')\n",
    " \n",
    "# Create instance\n",
    "v1 = Vehicle()\n",
    "v2 = Vehicle(\"car\")\n",
    " "
   ]
  },
  {
   "cell_type": "raw",
   "metadata": {},
   "source": [
    "Reference:\n",
    "https://pythonspot.com/beginner/"
   ]
  }
 ],
 "metadata": {
  "kernelspec": {
   "display_name": "Python 3",
   "language": "python",
   "name": "python3"
  },
  "language_info": {
   "codemirror_mode": {
    "name": "ipython",
    "version": 3
   },
   "file_extension": ".py",
   "mimetype": "text/x-python",
   "name": "python",
   "nbconvert_exporter": "python",
   "pygments_lexer": "ipython3",
   "version": "3.6.1"
  }
 },
 "nbformat": 4,
 "nbformat_minor": 2
}
