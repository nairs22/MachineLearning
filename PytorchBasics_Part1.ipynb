{
  "nbformat": 4,
  "nbformat_minor": 0,
  "metadata": {
    "colab": {
      "name": "PytorchBasics: Part1",
      "version": "0.3.2",
      "provenance": []
    },
    "kernelspec": {
      "name": "python3",
      "display_name": "Python 3"
    }
  },
  "cells": [
    {
      "metadata": {
        "id": "E3rHP01opuj9",
        "colab_type": "code",
        "colab": {}
      },
      "cell_type": "code",
      "source": [
        "#!pip3 install torch  --> command to install pytorch"
      ],
      "execution_count": 0,
      "outputs": []
    },
    {
      "metadata": {
        "id": "35McneY38JAo",
        "colab_type": "text"
      },
      "cell_type": "markdown",
      "source": [
        "WHAT IS PYTORCH?\n",
        "\n",
        "It’s a Python-based scientific computing package targeted at two sets of audiences:\n",
        "\n",
        "1.   a deep learning research platform that provides maximum flexibility and speed\n",
        "\n",
        "2.   A replacement for NumPy to use the power of GPUs"
      ]
    },
    {
      "metadata": {
        "id": "YFraIyp6p3XD",
        "colab_type": "code",
        "colab": {}
      },
      "cell_type": "code",
      "source": [
        "import torch     # command to import pytorch\n",
        "import numpy as np\n",
        "from matplotlib import pyplot as plt"
      ],
      "execution_count": 0,
      "outputs": []
    },
    {
      "metadata": {
        "id": "-LVOONX38mwP",
        "colab_type": "text"
      },
      "cell_type": "markdown",
      "source": [
        "A tensor is a generalization of vectors and matrices and is easily understood as a multidimensional array.  a tensor variable can be initialised using .tensor() function"
      ]
    },
    {
      "metadata": {
        "id": "51SPBa_Jp-Z-",
        "colab_type": "code",
        "outputId": "febf7468-79ed-4f8d-a15c-218469b1d761",
        "colab": {
          "base_uri": "https://localhost:8080/",
          "height": 34
        }
      },
      "cell_type": "code",
      "source": [
        "v=torch.tensor([1,2,3,4,6,7,1])\n",
        "print(v)"
      ],
      "execution_count": 0,
      "outputs": [
        {
          "output_type": "stream",
          "text": [
            "tensor([1, 2, 3, 4, 6, 7, 1])\n"
          ],
          "name": "stdout"
        }
      ]
    },
    {
      "metadata": {
        "id": "Fmw9roe0qL97",
        "colab_type": "code",
        "outputId": "70d82bf4-d7f8-4007-8ca1-97ab91a28e4e",
        "colab": {
          "base_uri": "https://localhost:8080/",
          "height": 70
        }
      },
      "cell_type": "code",
      "source": [
        "print(v.dtype)\n",
        "print(v[2])   # single selection of tensor element\n",
        "print(v[1:4])  # multiple selection of tensor element"
      ],
      "execution_count": 0,
      "outputs": [
        {
          "output_type": "stream",
          "text": [
            "torch.int64\n",
            "tensor(3)\n",
            "tensor([2, 3, 4])\n"
          ],
          "name": "stdout"
        }
      ]
    },
    {
      "metadata": {
        "id": "A1S62u0tqprr",
        "colab_type": "code",
        "colab": {}
      },
      "cell_type": "code",
      "source": [
        "v2=torch.FloatTensor([3,4,5,6,7])  # generates tensor variable with float datatype"
      ],
      "execution_count": 0,
      "outputs": []
    },
    {
      "metadata": {
        "id": "pcaQZZabqwqT",
        "colab_type": "code",
        "outputId": "d9120966-e5e9-417c-d5f2-08d7b8be341c",
        "colab": {
          "base_uri": "https://localhost:8080/",
          "height": 34
        }
      },
      "cell_type": "code",
      "source": [
        "print(v2.dtype)"
      ],
      "execution_count": 0,
      "outputs": [
        {
          "output_type": "stream",
          "text": [
            "torch.float32\n"
          ],
          "name": "stdout"
        }
      ]
    },
    {
      "metadata": {
        "id": "DqiGxharq3MT",
        "colab_type": "code",
        "outputId": "a744a67d-27ef-44aa-eef2-731379a47976",
        "colab": {
          "base_uri": "https://localhost:8080/",
          "height": 34
        }
      },
      "cell_type": "code",
      "source": [
        "v2.size()   # to detemine the number of element in the tensor"
      ],
      "execution_count": 0,
      "outputs": [
        {
          "output_type": "execute_result",
          "data": {
            "text/plain": [
              "torch.Size([5])"
            ]
          },
          "metadata": {
            "tags": []
          },
          "execution_count": 36
        }
      ]
    },
    {
      "metadata": {
        "id": "RaJpHuchrC8q",
        "colab_type": "code",
        "outputId": "c7527387-6061-41f0-a3d7-d372b9826d33",
        "colab": {
          "base_uri": "https://localhost:8080/",
          "height": 105
        }
      },
      "cell_type": "code",
      "source": [
        "v2.view(5,1)    # Reshapes the tensor variable"
      ],
      "execution_count": 0,
      "outputs": [
        {
          "output_type": "execute_result",
          "data": {
            "text/plain": [
              "tensor([[3.],\n",
              "        [4.],\n",
              "        [5.],\n",
              "        [6.],\n",
              "        [7.]])"
            ]
          },
          "metadata": {
            "tags": []
          },
          "execution_count": 37
        }
      ]
    },
    {
      "metadata": {
        "id": "NTinUE-VrJHm",
        "colab_type": "code",
        "outputId": "d331add7-9689-4816-854d-e88b3c7c1e5b",
        "colab": {
          "base_uri": "https://localhost:8080/",
          "height": 52
        }
      },
      "cell_type": "code",
      "source": [
        "a=np.array([3,4,6,5])              \n",
        "tens=torch.from_numpy(a)    # converts numpy array to tensor\n",
        "print(tens)\n",
        "print(tens.type())"
      ],
      "execution_count": 0,
      "outputs": [
        {
          "output_type": "stream",
          "text": [
            "tensor([3, 4, 6, 5])\n",
            "torch.LongTensor\n"
          ],
          "name": "stdout"
        }
      ]
    },
    {
      "metadata": {
        "id": "2Zp6DUeGwK0c",
        "colab_type": "code",
        "outputId": "a2dcef90-1920-4d22-e83f-aeabbfe5fb84",
        "colab": {
          "base_uri": "https://localhost:8080/",
          "height": 34
        }
      },
      "cell_type": "code",
      "source": [
        "num=tens.numpy()     # converts tensor to numpy array\n",
        "print(num)"
      ],
      "execution_count": 0,
      "outputs": [
        {
          "output_type": "stream",
          "text": [
            "[3 4 6 5]\n"
          ],
          "name": "stdout"
        }
      ]
    },
    {
      "metadata": {
        "id": "7TcdExRPwXm4",
        "colab_type": "code",
        "colab": {}
      },
      "cell_type": "code",
      "source": [
        "a1 = torch.randn(1, 3)\n",
        "a2 = torch.randn(1, 3)"
      ],
      "execution_count": 0,
      "outputs": []
    },
    {
      "metadata": {
        "id": "xsf20DJOxcdh",
        "colab_type": "code",
        "outputId": "14174d4d-dc1b-4a15-be3b-2ed52b9f92e4",
        "colab": {
          "base_uri": "https://localhost:8080/",
          "height": 87
        }
      },
      "cell_type": "code",
      "source": [
        "print(\"a1\",a1)\n",
        "print(\"a2\",a2)\n",
        "print(a1+a2)     # we can also perform mathematical operations on tensor valiables\n",
        "print(a1*2)"
      ],
      "execution_count": 0,
      "outputs": [
        {
          "output_type": "stream",
          "text": [
            "a1 tensor([[0.0521, 0.3010, 0.9908]])\n",
            "a2 tensor([[-0.4768, -0.9299,  0.5342]])\n",
            "tensor([[-0.4247, -0.6289,  1.5250]])\n",
            "tensor([[0.1043, 0.6020, 1.9816]])\n"
          ],
          "name": "stdout"
        }
      ]
    },
    {
      "metadata": {
        "id": "jxM75DK7xoZv",
        "colab_type": "code",
        "outputId": "00b562c6-5b22-4161-92e1-25b77787a1f5",
        "colab": {
          "base_uri": "https://localhost:8080/",
          "height": 365
        }
      },
      "cell_type": "code",
      "source": [
        "x=torch.linspace(1,10,100)   # Generates a list of values from 1 to 10 of step size 100\n",
        "y=torch.exp(x)\n",
        "plt.plot(x.numpy(),y.numpy())  # REMEMBER: To convert the tensor datatype to numpy so that we can plot the data"
      ],
      "execution_count": 0,
      "outputs": [
        {
          "output_type": "execute_result",
          "data": {
            "text/plain": [
              "[<matplotlib.lines.Line2D at 0x7f99a9f01748>]"
            ]
          },
          "metadata": {
            "tags": []
          },
          "execution_count": 51
        },
        {
          "output_type": "display_data",
          "data": {
            "image/png": "[encoded data removed]",
            "text/plain": [
              "<Figure size 576x396 with 1 Axes>"
            ]
          },
          "metadata": {
            "tags": []
          }
        }
      ]
    },
    {
      "metadata": {
        "id": "A2Eb67yKzHQO",
        "colab_type": "code",
        "outputId": "d9aa9c3a-92a4-44f6-d67d-2f0e61b4c206",
        "colab": {
          "base_uri": "https://localhost:8080/",
          "height": 34
        }
      },
      "cell_type": "code",
      "source": [
        "one_dim=torch.arange(6)   #  Generates a one dimensional tensor array\n",
        "print(one_dim)"
      ],
      "execution_count": 0,
      "outputs": [
        {
          "output_type": "stream",
          "text": [
            "tensor([0, 1, 2, 3, 4, 5])\n"
          ],
          "name": "stdout"
        }
      ]
    },
    {
      "metadata": {
        "id": "bOHRE15V2D2E",
        "colab_type": "code",
        "outputId": "c095dc1a-57f6-4438-8136-4d4b6fc9db16",
        "colab": {
          "base_uri": "https://localhost:8080/",
          "height": 70
        }
      },
      "cell_type": "code",
      "source": [
        "two_dim=one_dim.view(3,2)  # Resphapes the one dimensional tensor array to a two dimensional tensor array\n",
        "print(two_dim)"
      ],
      "execution_count": 0,
      "outputs": [
        {
          "output_type": "stream",
          "text": [
            "tensor([[0, 1],\n",
            "        [2, 3],\n",
            "        [4, 5]])\n"
          ],
          "name": "stdout"
        }
      ]
    },
    {
      "metadata": {
        "id": "ltjAis-H2MkZ",
        "colab_type": "code",
        "outputId": "dae10fb1-ab0d-414e-8b6c-403bbd608e6e",
        "colab": {
          "base_uri": "https://localhost:8080/",
          "height": 52
        }
      },
      "cell_type": "code",
      "source": [
        "print(two_dim.dim())\n",
        "print(two_dim[2,0])    # selects the element in the second row and zeroth column (the row/column count starts from zero)"
      ],
      "execution_count": 0,
      "outputs": [
        {
          "output_type": "stream",
          "text": [
            "2\n",
            "tensor(4)\n"
          ],
          "name": "stdout"
        }
      ]
    },
    {
      "metadata": {
        "id": "Qb43mLi92VbO",
        "colab_type": "code",
        "outputId": "8a7ad2dc-7594-4a70-eafb-10d9549e9c63",
        "colab": {
          "base_uri": "https://localhost:8080/",
          "height": 228
        }
      },
      "cell_type": "code",
      "source": [
        "three_dim=torch.arange(18).view(3,3,2)  # aranges 18 elements to a three dimensional tensor array\n",
        "print(three_dim.dim())\n",
        "print(three_dim)"
      ],
      "execution_count": 0,
      "outputs": [
        {
          "output_type": "stream",
          "text": [
            "3\n",
            "tensor([[[ 0,  1],\n",
            "         [ 2,  3],\n",
            "         [ 4,  5]],\n",
            "\n",
            "        [[ 6,  7],\n",
            "         [ 8,  9],\n",
            "         [10, 11]],\n",
            "\n",
            "        [[12, 13],\n",
            "         [14, 15],\n",
            "         [16, 17]]])\n"
          ],
          "name": "stdout"
        }
      ]
    },
    {
      "metadata": {
        "id": "NvnpHqpY2tWs",
        "colab_type": "code",
        "outputId": "ecc0153a-1e42-4dc8-b65f-f923de61adf4",
        "colab": {
          "base_uri": "https://localhost:8080/",
          "height": 34
        }
      },
      "cell_type": "code",
      "source": [
        "three_dim[1,2,1]   # here the first element correnspond to the block matrix and the second and third number corresponds to the row and column value of that block matrix."
      ],
      "execution_count": 0,
      "outputs": [
        {
          "output_type": "execute_result",
          "data": {
            "text/plain": [
              "tensor(11)"
            ]
          },
          "metadata": {
            "tags": []
          },
          "execution_count": 68
        }
      ]
    },
    {
      "metadata": {
        "id": "WBhDVB6N3HSb",
        "colab_type": "code",
        "outputId": "351c3f0a-38c4-42e2-beb9-0e9be884ebfc",
        "colab": {
          "base_uri": "https://localhost:8080/",
          "height": 70
        }
      },
      "cell_type": "code",
      "source": [
        "three_dim[2,0:3,0:2]  # selects all the rows and columns of the second block"
      ],
      "execution_count": 0,
      "outputs": [
        {
          "output_type": "execute_result",
          "data": {
            "text/plain": [
              "tensor([[12, 13],\n",
              "        [14, 15],\n",
              "        [16, 17]])"
            ]
          },
          "metadata": {
            "tags": []
          },
          "execution_count": 69
        }
      ]
    },
    {
      "metadata": {
        "id": "Evqw1eJx3y3o",
        "colab_type": "code",
        "outputId": "858e6c8d-96ec-48f2-e2c4-92d687ec198c",
        "colab": {
          "base_uri": "https://localhost:8080/",
          "height": 70
        }
      },
      "cell_type": "code",
      "source": [
        "mat_a=torch.tensor([2,3,4,5,6,7]).view(3,2)\n",
        "print(mat_a)"
      ],
      "execution_count": 0,
      "outputs": [
        {
          "output_type": "stream",
          "text": [
            "tensor([[2, 3],\n",
            "        [4, 5],\n",
            "        [6, 7]])\n"
          ],
          "name": "stdout"
        }
      ]
    },
    {
      "metadata": {
        "id": "Ul4gn14Q4WYd",
        "colab_type": "code",
        "outputId": "f1edf4b6-7605-4352-be8f-26d25ef864df",
        "colab": {
          "base_uri": "https://localhost:8080/",
          "height": 52
        }
      },
      "cell_type": "code",
      "source": [
        "mat_b=torch.tensor([3,4,5,1,2,7]).view(2,3)\n",
        "print(mat_b)"
      ],
      "execution_count": 0,
      "outputs": [
        {
          "output_type": "stream",
          "text": [
            "tensor([[3, 4, 5],\n",
            "        [1, 2, 7]])\n"
          ],
          "name": "stdout"
        }
      ]
    },
    {
      "metadata": {
        "id": "KMLVgLqM4eQD",
        "colab_type": "code",
        "outputId": "8cd1350f-9db9-457d-c7d5-c5a0d1e5afa3",
        "colab": {
          "base_uri": "https://localhost:8080/",
          "height": 70
        }
      },
      "cell_type": "code",
      "source": [
        "print(torch.matmul(mat_a,mat_b))  # performs matrix multiplication on tensor matrix"
      ],
      "execution_count": 0,
      "outputs": [
        {
          "output_type": "stream",
          "text": [
            "tensor([[ 9, 14, 31],\n",
            "        [17, 26, 55],\n",
            "        [25, 38, 79]])\n"
          ],
          "name": "stdout"
        }
      ]
    },
    {
      "metadata": {
        "id": "P4_bFWiVCExV",
        "colab_type": "text"
      },
      "cell_type": "markdown",
      "source": [
        "AUTOGRAD:\n",
        "Autograd is now a core torch package for automatic differentiation. It uses a tape based system for automatic differentiation.\n",
        "In autograd, if any input Tensor of an operation has requires_grad=True, the computation will be tracked. After computing the backward pass, a gradient w.r.t. this tensor is accumulated into .grad attribute."
      ]
    },
    {
      "metadata": {
        "id": "SKWFeZgB4l4k",
        "colab_type": "code",
        "colab": {}
      },
      "cell_type": "code",
      "source": [
        "x1=torch.tensor(2.0,requires_grad=True)  \n",
        "y1=9*x**4+2*x**3+3*x**2+6*x+1\n",
        "y1.backward()\n",
        "x1.grad"
      ],
      "execution_count": 0,
      "outputs": []
    },
    {
      "metadata": {
        "id": "smYZEWx65vUT",
        "colab_type": "code",
        "outputId": "f2d8e8f3-6256-43c7-9203-154c348ef73f",
        "colab": {
          "base_uri": "https://localhost:8080/",
          "height": 34
        }
      },
      "cell_type": "code",
      "source": [
        "z.grad"
      ],
      "execution_count": 0,
      "outputs": [
        {
          "output_type": "execute_result",
          "data": {
            "text/plain": [
              "tensor(12.)"
            ]
          },
          "metadata": {
            "tags": []
          },
          "execution_count": 78
        }
      ]
    },
    {
      "metadata": {
        "id": "03hKDhcN5GNx",
        "colab_type": "code",
        "outputId": "d1a75f12-1290-4481-9529-8340ccc3b1bb",
        "colab": {
          "base_uri": "https://localhost:8080/",
          "height": 52
        }
      },
      "cell_type": "code",
      "source": [
        "x=torch.tensor(1.0,requires_grad=True)\n",
        "z=torch.tensor(2.0,requires_grad=True)\n",
        "print(\"X:\",x,\"Z:\",z)\n"
      ],
      "execution_count": 0,
      "outputs": [
        {
          "output_type": "stream",
          "text": [
            "X: tensor(1., requires_grad=True) Y: tensor(9., grad_fn=<AddBackward0>)\n"
          ],
          "name": "stdout"
        },
        {
          "output_type": "execute_result",
          "data": {
            "text/plain": [
              "tensor(2.)"
            ]
          },
          "metadata": {
            "tags": []
          },
          "execution_count": 83
        }
      ]
    },
    {
      "metadata": {
        "id": "3dEpES01C9sS",
        "colab_type": "text"
      },
      "cell_type": "markdown",
      "source": [
        "In the below equation, "
      ]
    },
    {
      "metadata": {
        "id": "1GGtSsp45xS4",
        "colab_type": "code",
        "outputId": "f6e3286e-571b-46c3-8482-2694372f75ad",
        "colab": {
          "base_uri": "https://localhost:8080/",
          "height": 34
        }
      },
      "cell_type": "code",
      "source": [
        "y=x**2+z**3\n",
        "y.backward()\n",
        "x.grad"
      ],
      "execution_count": 0,
      "outputs": [
        {
          "output_type": "execute_result",
          "data": {
            "text/plain": [
              "tensor(8.)"
            ]
          },
          "metadata": {
            "tags": []
          },
          "execution_count": 86
        }
      ]
    },
    {
      "metadata": {
        "id": "eMimHryWDN8q",
        "colab_type": "code",
        "colab": {}
      },
      "cell_type": "code",
      "source": [
        ""
      ],
      "execution_count": 0,
      "outputs": []
    }
  ]
}